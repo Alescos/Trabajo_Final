{
 "cells": [
  {
   "cell_type": "markdown",
   "metadata": {},
   "source": [
    "# Informe Proyecto Final\n",
    "### Presentado a: John Fredy Ochoa y Diana Carolina Arboleda\n",
    "### Presentado por: Alejadro Escobar y Jose Fernando Chilito \n",
    "\n",
    "En el presente informe se abarcará el análisi exploratorio de datos trabajando con el archivo obtenido en el código de Python Proyecto3_Final.py. Esta determinación se tomó debido a la extension de codigo y de procesamiento que se requría en dicha rutina. \n",
    "En el presente trabajo se explicará cómo se obtienen y categorizan los datos crudos para su posterior análisis. Se encuentras además una serie de datos que permiten analizar lo que sucede con los pacientes del estudio, se observarán las pruebas de hipótesis realizadas. "
   ]
  },
  {
   "cell_type": "code",
   "execution_count": 64,
   "metadata": {},
   "outputs": [],
   "source": [
    "#%% Librerias\n",
    "import math\n",
    "import librosa\n",
    "import librosa.display\n",
    "import numpy as np\n",
    "import pandas as pd\n",
    "import scipy.signal as signal\n",
    "from linearFIR import filter_design\n",
    "from Filtrado_Wavelet import filtrado\n",
    "from os import listdir\n",
    "from os.path import isfile, join\n",
    "from IPython import get_ipython\n",
    "from scipy.stats import ttest_ind, mannwhitneyu\n",
    "import seaborn as sns #Graficacion\n",
    "import matplotlib.pyplot as plt #Graficacion"
   ]
  },
  {
   "cell_type": "markdown",
   "metadata": {},
   "source": [
    "## Creación del DataFrame\n",
    "\n",
    "A continuación se carga el data frame con el que se va a trabajar, el cual contiene el nombre de los archivos, los ciclos, si el paciente no presenta patologías, presente crepitancias, sibilancias, además valores como varianza, rango de tiempo, la suma de los promedios y el promedio del espectro de potencia. "
   ]
  },
  {
   "cell_type": "code",
   "execution_count": 8,
   "metadata": {},
   "outputs": [],
   "source": [
    "datos=pd.read_csv('Datos_estudio.csv',header=0,sep=',',decimal=\".\");"
   ]
  },
  {
   "cell_type": "markdown",
   "metadata": {},
   "source": [
    "Con el siguiente comando se muestran los primeros datos del Data Frame"
   ]
  },
  {
   "cell_type": "code",
   "execution_count": 53,
   "metadata": {},
   "outputs": [
    {
     "data": {
      "text/html": [
       "<div>\n",
       "<style scoped>\n",
       "    .dataframe tbody tr th:only-of-type {\n",
       "        vertical-align: middle;\n",
       "    }\n",
       "\n",
       "    .dataframe tbody tr th {\n",
       "        vertical-align: top;\n",
       "    }\n",
       "\n",
       "    .dataframe thead th {\n",
       "        text-align: right;\n",
       "    }\n",
       "</style>\n",
       "<table border=\"1\" class=\"dataframe\">\n",
       "  <thead>\n",
       "    <tr style=\"text-align: right;\">\n",
       "      <th></th>\n",
       "      <th>Unnamed: 0</th>\n",
       "      <th>Unnamed: 1</th>\n",
       "      <th>Ciclo Respiratorio</th>\n",
       "      <th>Normal</th>\n",
       "      <th>Crepitancia</th>\n",
       "      <th>Sibilancia</th>\n",
       "      <th>Varianza</th>\n",
       "      <th>Rango</th>\n",
       "      <th>Suma de Promedios</th>\n",
       "      <th>Promedio de Espectros</th>\n",
       "    </tr>\n",
       "  </thead>\n",
       "  <tbody>\n",
       "    <tr>\n",
       "      <th>0</th>\n",
       "      <td>101_1b1_Al_sc_Meditron.wav</td>\n",
       "      <td>0</td>\n",
       "      <td>1.0</td>\n",
       "      <td>1</td>\n",
       "      <td>0.0</td>\n",
       "      <td>0.0</td>\n",
       "      <td>0.000126</td>\n",
       "      <td>0.149517</td>\n",
       "      <td>7.251985e-07</td>\n",
       "      <td>0.000251</td>\n",
       "    </tr>\n",
       "    <tr>\n",
       "      <th>1</th>\n",
       "      <td>101_1b1_Al_sc_Meditron.wav</td>\n",
       "      <td>1</td>\n",
       "      <td>2.0</td>\n",
       "      <td>1</td>\n",
       "      <td>0.0</td>\n",
       "      <td>0.0</td>\n",
       "      <td>0.000134</td>\n",
       "      <td>0.170549</td>\n",
       "      <td>-2.137991e-07</td>\n",
       "      <td>0.000269</td>\n",
       "    </tr>\n",
       "    <tr>\n",
       "      <th>2</th>\n",
       "      <td>101_1b1_Al_sc_Meditron.wav</td>\n",
       "      <td>2</td>\n",
       "      <td>3.0</td>\n",
       "      <td>1</td>\n",
       "      <td>0.0</td>\n",
       "      <td>0.0</td>\n",
       "      <td>0.000130</td>\n",
       "      <td>0.179019</td>\n",
       "      <td>5.655318e-07</td>\n",
       "      <td>0.000261</td>\n",
       "    </tr>\n",
       "    <tr>\n",
       "      <th>3</th>\n",
       "      <td>101_1b1_Al_sc_Meditron.wav</td>\n",
       "      <td>3</td>\n",
       "      <td>4.0</td>\n",
       "      <td>1</td>\n",
       "      <td>0.0</td>\n",
       "      <td>0.0</td>\n",
       "      <td>0.000156</td>\n",
       "      <td>0.216310</td>\n",
       "      <td>7.511071e-07</td>\n",
       "      <td>0.000312</td>\n",
       "    </tr>\n",
       "    <tr>\n",
       "      <th>4</th>\n",
       "      <td>101_1b1_Al_sc_Meditron.wav</td>\n",
       "      <td>4</td>\n",
       "      <td>5.0</td>\n",
       "      <td>1</td>\n",
       "      <td>0.0</td>\n",
       "      <td>0.0</td>\n",
       "      <td>0.000104</td>\n",
       "      <td>0.166396</td>\n",
       "      <td>-1.534975e-06</td>\n",
       "      <td>0.000208</td>\n",
       "    </tr>\n",
       "  </tbody>\n",
       "</table>\n",
       "</div>"
      ],
      "text/plain": [
       "                   Unnamed: 0  Unnamed: 1  Ciclo Respiratorio  Normal  \\\n",
       "0  101_1b1_Al_sc_Meditron.wav           0                 1.0       1   \n",
       "1  101_1b1_Al_sc_Meditron.wav           1                 2.0       1   \n",
       "2  101_1b1_Al_sc_Meditron.wav           2                 3.0       1   \n",
       "3  101_1b1_Al_sc_Meditron.wav           3                 4.0       1   \n",
       "4  101_1b1_Al_sc_Meditron.wav           4                 5.0       1   \n",
       "\n",
       "   Crepitancia  Sibilancia  Varianza     Rango  Suma de Promedios  \\\n",
       "0          0.0         0.0  0.000126  0.149517       7.251985e-07   \n",
       "1          0.0         0.0  0.000134  0.170549      -2.137991e-07   \n",
       "2          0.0         0.0  0.000130  0.179019       5.655318e-07   \n",
       "3          0.0         0.0  0.000156  0.216310       7.511071e-07   \n",
       "4          0.0         0.0  0.000104  0.166396      -1.534975e-06   \n",
       "\n",
       "   Promedio de Espectros  \n",
       "0               0.000251  \n",
       "1               0.000269  \n",
       "2               0.000261  \n",
       "3               0.000312  \n",
       "4               0.000208  "
      ]
     },
     "execution_count": 53,
     "metadata": {},
     "output_type": "execute_result"
    }
   ],
   "source": [
    "datos.head()"
   ]
  },
  {
   "cell_type": "markdown",
   "metadata": {},
   "source": [
    "### Separación de sujetos\n",
    "A continuación se crea una rutina que permita separar los archivos en diferentes categorías, están los paciente Sin patologías, con crepitancias, sibilancias y ambas. "
   ]
  },
  {
   "cell_type": "code",
   "execution_count": 10,
   "metadata": {},
   "outputs": [],
   "source": [
    "#Se crean 4 dataframes con las mismas columnas del dataframe datos (uno por cada tipo de sujeto)\n",
    "#el dataframe llamado \"normal\" gurdará la información de los sujetos sin patología\n",
    "#el dataframe llamado \"sibilanciq\" gurdará la información de los sujetos con sibilancia\n",
    "#el dataframe llamado \"crepitancia\" gurdará la información de los sujetos con crepitancia\n",
    "#el dataframe llamado \"dobles\" gurdará la información de los sujetos con doble patología\n",
    "\n",
    "normal=pd.DataFrame(columns=datos.columns)\n",
    "sibilancia=normal\n",
    "crepitancia=normal\n",
    "dobles=normal"
   ]
  },
  {
   "cell_type": "code",
   "execution_count": 11,
   "metadata": {},
   "outputs": [],
   "source": [
    "#En este ciclo se llenan cada uno de los dataframe si cumplen las condiciones determinadas por cada sujeto\n",
    "\n",
    "for i in range(0,datos.shape[0]):\n",
    "    if int(datos.at[i,'Normal'])==1:\n",
    "        normal=normal.append(datos.loc[i])\n",
    "    elif (int(datos.at[i,'Crepitancia'])==1 and int(datos.at[i,'Sibilancia'])==1):\n",
    "        dobles=dobles.append(datos.loc[i])\n",
    "    elif (int(datos.at[i,'Crepitancia'])==0 and int(datos.at[i,'Sibilancia'])==1):\n",
    "        sibilancia=sibilancia.append(datos.loc[i])\n",
    "    elif (int(datos.at[i,'Crepitancia'])==1 and int(datos.at[i,'Sibilancia'])==0):\n",
    "        crepitancia=crepitancia.append(datos.loc[i])"
   ]
  },
  {
   "cell_type": "markdown",
   "metadata": {},
   "source": [
    "#### Datos descriptivos de los datos"
   ]
  },
  {
   "cell_type": "code",
   "execution_count": 12,
   "metadata": {},
   "outputs": [
    {
     "data": {
      "text/html": [
       "<div>\n",
       "<style scoped>\n",
       "    .dataframe tbody tr th:only-of-type {\n",
       "        vertical-align: middle;\n",
       "    }\n",
       "\n",
       "    .dataframe tbody tr th {\n",
       "        vertical-align: top;\n",
       "    }\n",
       "\n",
       "    .dataframe thead th {\n",
       "        text-align: right;\n",
       "    }\n",
       "</style>\n",
       "<table border=\"1\" class=\"dataframe\">\n",
       "  <thead>\n",
       "    <tr style=\"text-align: right;\">\n",
       "      <th></th>\n",
       "      <th>Unnamed: 1</th>\n",
       "      <th>Ciclo Respiratorio</th>\n",
       "      <th>Normal</th>\n",
       "      <th>Crepitancia</th>\n",
       "      <th>Sibilancia</th>\n",
       "      <th>Varianza</th>\n",
       "      <th>Rango</th>\n",
       "      <th>Suma de Promedios</th>\n",
       "      <th>Promedio de Espectros</th>\n",
       "    </tr>\n",
       "  </thead>\n",
       "  <tbody>\n",
       "    <tr>\n",
       "      <th>count</th>\n",
       "      <td>6898.000000</td>\n",
       "      <td>6898.000000</td>\n",
       "      <td>6898.000000</td>\n",
       "      <td>6898.000000</td>\n",
       "      <td>6898.000000</td>\n",
       "      <td>6.898000e+03</td>\n",
       "      <td>6898.000000</td>\n",
       "      <td>6.898000e+03</td>\n",
       "      <td>6.898000e+03</td>\n",
       "    </tr>\n",
       "    <tr>\n",
       "      <th>mean</th>\n",
       "      <td>3.990142</td>\n",
       "      <td>4.990142</td>\n",
       "      <td>0.527979</td>\n",
       "      <td>0.343578</td>\n",
       "      <td>0.201798</td>\n",
       "      <td>2.400564e-03</td>\n",
       "      <td>0.520964</td>\n",
       "      <td>8.374261e-08</td>\n",
       "      <td>4.800983e-03</td>\n",
       "    </tr>\n",
       "    <tr>\n",
       "      <th>std</th>\n",
       "      <td>3.682312</td>\n",
       "      <td>3.682312</td>\n",
       "      <td>0.499253</td>\n",
       "      <td>0.474937</td>\n",
       "      <td>0.401371</td>\n",
       "      <td>5.710398e-03</td>\n",
       "      <td>0.533683</td>\n",
       "      <td>6.045344e-06</td>\n",
       "      <td>1.142047e-02</td>\n",
       "    </tr>\n",
       "    <tr>\n",
       "      <th>min</th>\n",
       "      <td>0.000000</td>\n",
       "      <td>1.000000</td>\n",
       "      <td>0.000000</td>\n",
       "      <td>0.000000</td>\n",
       "      <td>0.000000</td>\n",
       "      <td>1.654615e-07</td>\n",
       "      <td>0.003074</td>\n",
       "      <td>-1.025104e-04</td>\n",
       "      <td>3.308810e-07</td>\n",
       "    </tr>\n",
       "    <tr>\n",
       "      <th>25%</th>\n",
       "      <td>1.000000</td>\n",
       "      <td>2.000000</td>\n",
       "      <td>0.000000</td>\n",
       "      <td>0.000000</td>\n",
       "      <td>0.000000</td>\n",
       "      <td>7.976998e-05</td>\n",
       "      <td>0.128388</td>\n",
       "      <td>-8.246437e-07</td>\n",
       "      <td>1.595379e-04</td>\n",
       "    </tr>\n",
       "    <tr>\n",
       "      <th>50%</th>\n",
       "      <td>3.000000</td>\n",
       "      <td>4.000000</td>\n",
       "      <td>1.000000</td>\n",
       "      <td>0.000000</td>\n",
       "      <td>0.000000</td>\n",
       "      <td>5.121308e-04</td>\n",
       "      <td>0.327044</td>\n",
       "      <td>1.730934e-09</td>\n",
       "      <td>1.024207e-03</td>\n",
       "    </tr>\n",
       "    <tr>\n",
       "      <th>75%</th>\n",
       "      <td>6.000000</td>\n",
       "      <td>7.000000</td>\n",
       "      <td>1.000000</td>\n",
       "      <td>1.000000</td>\n",
       "      <td>0.000000</td>\n",
       "      <td>2.192283e-03</td>\n",
       "      <td>0.723228</td>\n",
       "      <td>8.394734e-07</td>\n",
       "      <td>4.384490e-03</td>\n",
       "    </tr>\n",
       "    <tr>\n",
       "      <th>max</th>\n",
       "      <td>32.000000</td>\n",
       "      <td>33.000000</td>\n",
       "      <td>1.000000</td>\n",
       "      <td>1.000000</td>\n",
       "      <td>1.000000</td>\n",
       "      <td>1.312930e-01</td>\n",
       "      <td>3.168455</td>\n",
       "      <td>1.427491e-04</td>\n",
       "      <td>2.625818e-01</td>\n",
       "    </tr>\n",
       "  </tbody>\n",
       "</table>\n",
       "</div>"
      ],
      "text/plain": [
       "        Unnamed: 1  Ciclo Respiratorio       Normal  Crepitancia   Sibilancia  \\\n",
       "count  6898.000000         6898.000000  6898.000000  6898.000000  6898.000000   \n",
       "mean      3.990142            4.990142     0.527979     0.343578     0.201798   \n",
       "std       3.682312            3.682312     0.499253     0.474937     0.401371   \n",
       "min       0.000000            1.000000     0.000000     0.000000     0.000000   \n",
       "25%       1.000000            2.000000     0.000000     0.000000     0.000000   \n",
       "50%       3.000000            4.000000     1.000000     0.000000     0.000000   \n",
       "75%       6.000000            7.000000     1.000000     1.000000     0.000000   \n",
       "max      32.000000           33.000000     1.000000     1.000000     1.000000   \n",
       "\n",
       "           Varianza        Rango  Suma de Promedios  Promedio de Espectros  \n",
       "count  6.898000e+03  6898.000000       6.898000e+03           6.898000e+03  \n",
       "mean   2.400564e-03     0.520964       8.374261e-08           4.800983e-03  \n",
       "std    5.710398e-03     0.533683       6.045344e-06           1.142047e-02  \n",
       "min    1.654615e-07     0.003074      -1.025104e-04           3.308810e-07  \n",
       "25%    7.976998e-05     0.128388      -8.246437e-07           1.595379e-04  \n",
       "50%    5.121308e-04     0.327044       1.730934e-09           1.024207e-03  \n",
       "75%    2.192283e-03     0.723228       8.394734e-07           4.384490e-03  \n",
       "max    1.312930e-01     3.168455       1.427491e-04           2.625818e-01  "
      ]
     },
     "execution_count": 12,
     "metadata": {},
     "output_type": "execute_result"
    }
   ],
   "source": [
    "datos.describe()"
   ]
  },
  {
   "cell_type": "code",
   "execution_count": 13,
   "metadata": {},
   "outputs": [
    {
     "data": {
      "text/html": [
       "<div>\n",
       "<style scoped>\n",
       "    .dataframe tbody tr th:only-of-type {\n",
       "        vertical-align: middle;\n",
       "    }\n",
       "\n",
       "    .dataframe tbody tr th {\n",
       "        vertical-align: top;\n",
       "    }\n",
       "\n",
       "    .dataframe thead th {\n",
       "        text-align: right;\n",
       "    }\n",
       "</style>\n",
       "<table border=\"1\" class=\"dataframe\">\n",
       "  <thead>\n",
       "    <tr style=\"text-align: right;\">\n",
       "      <th></th>\n",
       "      <th>Ciclo Respiratorio</th>\n",
       "      <th>Crepitancia</th>\n",
       "      <th>Sibilancia</th>\n",
       "      <th>Varianza</th>\n",
       "      <th>Rango</th>\n",
       "      <th>Suma de Promedios</th>\n",
       "      <th>Promedio de Espectros</th>\n",
       "    </tr>\n",
       "  </thead>\n",
       "  <tbody>\n",
       "    <tr>\n",
       "      <th>count</th>\n",
       "      <td>3642.000000</td>\n",
       "      <td>3642.0</td>\n",
       "      <td>3642.0</td>\n",
       "      <td>3.642000e+03</td>\n",
       "      <td>3642.000000</td>\n",
       "      <td>3.642000e+03</td>\n",
       "      <td>3.642000e+03</td>\n",
       "    </tr>\n",
       "    <tr>\n",
       "      <th>mean</th>\n",
       "      <td>5.334706</td>\n",
       "      <td>0.0</td>\n",
       "      <td>0.0</td>\n",
       "      <td>1.760379e-03</td>\n",
       "      <td>0.435239</td>\n",
       "      <td>4.773215e-09</td>\n",
       "      <td>3.520645e-03</td>\n",
       "    </tr>\n",
       "    <tr>\n",
       "      <th>std</th>\n",
       "      <td>4.051678</td>\n",
       "      <td>0.0</td>\n",
       "      <td>0.0</td>\n",
       "      <td>3.988576e-03</td>\n",
       "      <td>0.498664</td>\n",
       "      <td>6.084114e-06</td>\n",
       "      <td>7.976888e-03</td>\n",
       "    </tr>\n",
       "    <tr>\n",
       "      <th>min</th>\n",
       "      <td>1.000000</td>\n",
       "      <td>0.0</td>\n",
       "      <td>0.0</td>\n",
       "      <td>1.654615e-07</td>\n",
       "      <td>0.003074</td>\n",
       "      <td>-1.025104e-04</td>\n",
       "      <td>3.308810e-07</td>\n",
       "    </tr>\n",
       "    <tr>\n",
       "      <th>25%</th>\n",
       "      <td>2.000000</td>\n",
       "      <td>0.0</td>\n",
       "      <td>0.0</td>\n",
       "      <td>4.770419e-05</td>\n",
       "      <td>0.089055</td>\n",
       "      <td>-6.791630e-07</td>\n",
       "      <td>9.540597e-05</td>\n",
       "    </tr>\n",
       "    <tr>\n",
       "      <th>50%</th>\n",
       "      <td>5.000000</td>\n",
       "      <td>0.0</td>\n",
       "      <td>0.0</td>\n",
       "      <td>2.706090e-04</td>\n",
       "      <td>0.235538</td>\n",
       "      <td>-1.024582e-08</td>\n",
       "      <td>5.411960e-04</td>\n",
       "    </tr>\n",
       "    <tr>\n",
       "      <th>75%</th>\n",
       "      <td>7.000000</td>\n",
       "      <td>0.0</td>\n",
       "      <td>0.0</td>\n",
       "      <td>1.503748e-03</td>\n",
       "      <td>0.586645</td>\n",
       "      <td>6.320124e-07</td>\n",
       "      <td>3.007439e-03</td>\n",
       "    </tr>\n",
       "    <tr>\n",
       "      <th>max</th>\n",
       "      <td>33.000000</td>\n",
       "      <td>0.0</td>\n",
       "      <td>0.0</td>\n",
       "      <td>4.831958e-02</td>\n",
       "      <td>3.064614</td>\n",
       "      <td>1.427491e-04</td>\n",
       "      <td>9.663078e-02</td>\n",
       "    </tr>\n",
       "  </tbody>\n",
       "</table>\n",
       "</div>"
      ],
      "text/plain": [
       "       Ciclo Respiratorio  Crepitancia  Sibilancia      Varianza        Rango  \\\n",
       "count         3642.000000       3642.0      3642.0  3.642000e+03  3642.000000   \n",
       "mean             5.334706          0.0         0.0  1.760379e-03     0.435239   \n",
       "std              4.051678          0.0         0.0  3.988576e-03     0.498664   \n",
       "min              1.000000          0.0         0.0  1.654615e-07     0.003074   \n",
       "25%              2.000000          0.0         0.0  4.770419e-05     0.089055   \n",
       "50%              5.000000          0.0         0.0  2.706090e-04     0.235538   \n",
       "75%              7.000000          0.0         0.0  1.503748e-03     0.586645   \n",
       "max             33.000000          0.0         0.0  4.831958e-02     3.064614   \n",
       "\n",
       "       Suma de Promedios  Promedio de Espectros  \n",
       "count       3.642000e+03           3.642000e+03  \n",
       "mean        4.773215e-09           3.520645e-03  \n",
       "std         6.084114e-06           7.976888e-03  \n",
       "min        -1.025104e-04           3.308810e-07  \n",
       "25%        -6.791630e-07           9.540597e-05  \n",
       "50%        -1.024582e-08           5.411960e-04  \n",
       "75%         6.320124e-07           3.007439e-03  \n",
       "max         1.427491e-04           9.663078e-02  "
      ]
     },
     "execution_count": 13,
     "metadata": {},
     "output_type": "execute_result"
    }
   ],
   "source": [
    "normal.describe()"
   ]
  },
  {
   "cell_type": "code",
   "execution_count": 14,
   "metadata": {},
   "outputs": [
    {
     "data": {
      "text/html": [
       "<div>\n",
       "<style scoped>\n",
       "    .dataframe tbody tr th:only-of-type {\n",
       "        vertical-align: middle;\n",
       "    }\n",
       "\n",
       "    .dataframe tbody tr th {\n",
       "        vertical-align: top;\n",
       "    }\n",
       "\n",
       "    .dataframe thead th {\n",
       "        text-align: right;\n",
       "    }\n",
       "</style>\n",
       "<table border=\"1\" class=\"dataframe\">\n",
       "  <thead>\n",
       "    <tr style=\"text-align: right;\">\n",
       "      <th></th>\n",
       "      <th>Ciclo Respiratorio</th>\n",
       "      <th>Crepitancia</th>\n",
       "      <th>Sibilancia</th>\n",
       "      <th>Varianza</th>\n",
       "      <th>Rango</th>\n",
       "      <th>Suma de Promedios</th>\n",
       "      <th>Promedio de Espectros</th>\n",
       "    </tr>\n",
       "  </thead>\n",
       "  <tbody>\n",
       "    <tr>\n",
       "      <th>count</th>\n",
       "      <td>1864.000000</td>\n",
       "      <td>1864.0</td>\n",
       "      <td>1864.0</td>\n",
       "      <td>1.864000e+03</td>\n",
       "      <td>1864.000000</td>\n",
       "      <td>1.864000e+03</td>\n",
       "      <td>1.864000e+03</td>\n",
       "    </tr>\n",
       "    <tr>\n",
       "      <th>mean</th>\n",
       "      <td>4.627146</td>\n",
       "      <td>1.0</td>\n",
       "      <td>0.0</td>\n",
       "      <td>2.304791e-03</td>\n",
       "      <td>0.607804</td>\n",
       "      <td>1.807526e-07</td>\n",
       "      <td>4.609451e-03</td>\n",
       "    </tr>\n",
       "    <tr>\n",
       "      <th>std</th>\n",
       "      <td>3.277296</td>\n",
       "      <td>0.0</td>\n",
       "      <td>0.0</td>\n",
       "      <td>4.362631e-03</td>\n",
       "      <td>0.519653</td>\n",
       "      <td>5.570299e-06</td>\n",
       "      <td>8.725000e-03</td>\n",
       "    </tr>\n",
       "    <tr>\n",
       "      <th>min</th>\n",
       "      <td>1.000000</td>\n",
       "      <td>1.0</td>\n",
       "      <td>0.0</td>\n",
       "      <td>1.878902e-07</td>\n",
       "      <td>0.004617</td>\n",
       "      <td>-6.733085e-05</td>\n",
       "      <td>3.757734e-07</td>\n",
       "    </tr>\n",
       "    <tr>\n",
       "      <th>25%</th>\n",
       "      <td>2.000000</td>\n",
       "      <td>1.0</td>\n",
       "      <td>0.0</td>\n",
       "      <td>1.786638e-04</td>\n",
       "      <td>0.210889</td>\n",
       "      <td>-1.037540e-06</td>\n",
       "      <td>3.573080e-04</td>\n",
       "    </tr>\n",
       "    <tr>\n",
       "      <th>50%</th>\n",
       "      <td>4.000000</td>\n",
       "      <td>1.0</td>\n",
       "      <td>0.0</td>\n",
       "      <td>7.597550e-04</td>\n",
       "      <td>0.447891</td>\n",
       "      <td>8.365171e-09</td>\n",
       "      <td>1.519474e-03</td>\n",
       "    </tr>\n",
       "    <tr>\n",
       "      <th>75%</th>\n",
       "      <td>6.000000</td>\n",
       "      <td>1.0</td>\n",
       "      <td>0.0</td>\n",
       "      <td>2.609942e-03</td>\n",
       "      <td>0.847974</td>\n",
       "      <td>1.229093e-06</td>\n",
       "      <td>5.219718e-03</td>\n",
       "    </tr>\n",
       "    <tr>\n",
       "      <th>max</th>\n",
       "      <td>30.000000</td>\n",
       "      <td>1.0</td>\n",
       "      <td>0.0</td>\n",
       "      <td>6.639070e-02</td>\n",
       "      <td>2.741568</td>\n",
       "      <td>7.922186e-05</td>\n",
       "      <td>1.327772e-01</td>\n",
       "    </tr>\n",
       "  </tbody>\n",
       "</table>\n",
       "</div>"
      ],
      "text/plain": [
       "       Ciclo Respiratorio  Crepitancia  Sibilancia      Varianza        Rango  \\\n",
       "count         1864.000000       1864.0      1864.0  1.864000e+03  1864.000000   \n",
       "mean             4.627146          1.0         0.0  2.304791e-03     0.607804   \n",
       "std              3.277296          0.0         0.0  4.362631e-03     0.519653   \n",
       "min              1.000000          1.0         0.0  1.878902e-07     0.004617   \n",
       "25%              2.000000          1.0         0.0  1.786638e-04     0.210889   \n",
       "50%              4.000000          1.0         0.0  7.597550e-04     0.447891   \n",
       "75%              6.000000          1.0         0.0  2.609942e-03     0.847974   \n",
       "max             30.000000          1.0         0.0  6.639070e-02     2.741568   \n",
       "\n",
       "       Suma de Promedios  Promedio de Espectros  \n",
       "count       1.864000e+03           1.864000e+03  \n",
       "mean        1.807526e-07           4.609451e-03  \n",
       "std         5.570299e-06           8.725000e-03  \n",
       "min        -6.733085e-05           3.757734e-07  \n",
       "25%        -1.037540e-06           3.573080e-04  \n",
       "50%         8.365171e-09           1.519474e-03  \n",
       "75%         1.229093e-06           5.219718e-03  \n",
       "max         7.922186e-05           1.327772e-01  "
      ]
     },
     "execution_count": 14,
     "metadata": {},
     "output_type": "execute_result"
    }
   ],
   "source": [
    "crepitancia.describe()"
   ]
  },
  {
   "cell_type": "code",
   "execution_count": 15,
   "metadata": {},
   "outputs": [
    {
     "data": {
      "text/html": [
       "<div>\n",
       "<style scoped>\n",
       "    .dataframe tbody tr th:only-of-type {\n",
       "        vertical-align: middle;\n",
       "    }\n",
       "\n",
       "    .dataframe tbody tr th {\n",
       "        vertical-align: top;\n",
       "    }\n",
       "\n",
       "    .dataframe thead th {\n",
       "        text-align: right;\n",
       "    }\n",
       "</style>\n",
       "<table border=\"1\" class=\"dataframe\">\n",
       "  <thead>\n",
       "    <tr style=\"text-align: right;\">\n",
       "      <th></th>\n",
       "      <th>Ciclo Respiratorio</th>\n",
       "      <th>Crepitancia</th>\n",
       "      <th>Sibilancia</th>\n",
       "      <th>Varianza</th>\n",
       "      <th>Rango</th>\n",
       "      <th>Suma de Promedios</th>\n",
       "      <th>Promedio de Espectros</th>\n",
       "    </tr>\n",
       "  </thead>\n",
       "  <tbody>\n",
       "    <tr>\n",
       "      <th>count</th>\n",
       "      <td>886.000000</td>\n",
       "      <td>886.0</td>\n",
       "      <td>886.0</td>\n",
       "      <td>8.860000e+02</td>\n",
       "      <td>886.000000</td>\n",
       "      <td>8.860000e+02</td>\n",
       "      <td>8.860000e+02</td>\n",
       "    </tr>\n",
       "    <tr>\n",
       "      <th>mean</th>\n",
       "      <td>4.668172</td>\n",
       "      <td>0.0</td>\n",
       "      <td>1.0</td>\n",
       "      <td>4.524378e-03</td>\n",
       "      <td>0.614348</td>\n",
       "      <td>2.138923e-07</td>\n",
       "      <td>9.048484e-03</td>\n",
       "    </tr>\n",
       "    <tr>\n",
       "      <th>std</th>\n",
       "      <td>3.071363</td>\n",
       "      <td>0.0</td>\n",
       "      <td>0.0</td>\n",
       "      <td>1.063272e-02</td>\n",
       "      <td>0.609702</td>\n",
       "      <td>6.665810e-06</td>\n",
       "      <td>2.126487e-02</td>\n",
       "    </tr>\n",
       "    <tr>\n",
       "      <th>min</th>\n",
       "      <td>1.000000</td>\n",
       "      <td>0.0</td>\n",
       "      <td>1.0</td>\n",
       "      <td>4.722855e-07</td>\n",
       "      <td>0.007317</td>\n",
       "      <td>-3.813499e-05</td>\n",
       "      <td>9.445616e-07</td>\n",
       "    </tr>\n",
       "    <tr>\n",
       "      <th>25%</th>\n",
       "      <td>2.000000</td>\n",
       "      <td>0.0</td>\n",
       "      <td>1.0</td>\n",
       "      <td>1.427079e-04</td>\n",
       "      <td>0.170493</td>\n",
       "      <td>-7.893244e-07</td>\n",
       "      <td>2.854037e-04</td>\n",
       "    </tr>\n",
       "    <tr>\n",
       "      <th>50%</th>\n",
       "      <td>4.000000</td>\n",
       "      <td>0.0</td>\n",
       "      <td>1.0</td>\n",
       "      <td>9.226102e-04</td>\n",
       "      <td>0.383206</td>\n",
       "      <td>3.419309e-08</td>\n",
       "      <td>1.845188e-03</td>\n",
       "    </tr>\n",
       "    <tr>\n",
       "      <th>75%</th>\n",
       "      <td>6.000000</td>\n",
       "      <td>0.0</td>\n",
       "      <td>1.0</td>\n",
       "      <td>3.842057e-03</td>\n",
       "      <td>0.848348</td>\n",
       "      <td>8.989234e-07</td>\n",
       "      <td>7.683729e-03</td>\n",
       "    </tr>\n",
       "    <tr>\n",
       "      <th>max</th>\n",
       "      <td>18.000000</td>\n",
       "      <td>0.0</td>\n",
       "      <td>1.0</td>\n",
       "      <td>1.312930e-01</td>\n",
       "      <td>3.168455</td>\n",
       "      <td>1.007249e-04</td>\n",
       "      <td>2.625818e-01</td>\n",
       "    </tr>\n",
       "  </tbody>\n",
       "</table>\n",
       "</div>"
      ],
      "text/plain": [
       "       Ciclo Respiratorio  Crepitancia  Sibilancia      Varianza       Rango  \\\n",
       "count          886.000000        886.0       886.0  8.860000e+02  886.000000   \n",
       "mean             4.668172          0.0         1.0  4.524378e-03    0.614348   \n",
       "std              3.071363          0.0         0.0  1.063272e-02    0.609702   \n",
       "min              1.000000          0.0         1.0  4.722855e-07    0.007317   \n",
       "25%              2.000000          0.0         1.0  1.427079e-04    0.170493   \n",
       "50%              4.000000          0.0         1.0  9.226102e-04    0.383206   \n",
       "75%              6.000000          0.0         1.0  3.842057e-03    0.848348   \n",
       "max             18.000000          0.0         1.0  1.312930e-01    3.168455   \n",
       "\n",
       "       Suma de Promedios  Promedio de Espectros  \n",
       "count       8.860000e+02           8.860000e+02  \n",
       "mean        2.138923e-07           9.048484e-03  \n",
       "std         6.665810e-06           2.126487e-02  \n",
       "min        -3.813499e-05           9.445616e-07  \n",
       "25%        -7.893244e-07           2.854037e-04  \n",
       "50%         3.419309e-08           1.845188e-03  \n",
       "75%         8.989234e-07           7.683729e-03  \n",
       "max         1.007249e-04           2.625818e-01  "
      ]
     },
     "execution_count": 15,
     "metadata": {},
     "output_type": "execute_result"
    }
   ],
   "source": [
    "sibilancia.describe()"
   ]
  },
  {
   "cell_type": "code",
   "execution_count": 16,
   "metadata": {},
   "outputs": [
    {
     "data": {
      "text/html": [
       "<div>\n",
       "<style scoped>\n",
       "    .dataframe tbody tr th:only-of-type {\n",
       "        vertical-align: middle;\n",
       "    }\n",
       "\n",
       "    .dataframe tbody tr th {\n",
       "        vertical-align: top;\n",
       "    }\n",
       "\n",
       "    .dataframe thead th {\n",
       "        text-align: right;\n",
       "    }\n",
       "</style>\n",
       "<table border=\"1\" class=\"dataframe\">\n",
       "  <thead>\n",
       "    <tr style=\"text-align: right;\">\n",
       "      <th></th>\n",
       "      <th>Ciclo Respiratorio</th>\n",
       "      <th>Crepitancia</th>\n",
       "      <th>Sibilancia</th>\n",
       "      <th>Varianza</th>\n",
       "      <th>Rango</th>\n",
       "      <th>Suma de Promedios</th>\n",
       "      <th>Promedio de Espectros</th>\n",
       "    </tr>\n",
       "  </thead>\n",
       "  <tbody>\n",
       "    <tr>\n",
       "      <th>count</th>\n",
       "      <td>506.000000</td>\n",
       "      <td>506.0</td>\n",
       "      <td>506.0</td>\n",
       "      <td>5.060000e+02</td>\n",
       "      <td>506.000000</td>\n",
       "      <td>5.060000e+02</td>\n",
       "      <td>5.060000e+02</td>\n",
       "    </tr>\n",
       "    <tr>\n",
       "      <th>mean</th>\n",
       "      <td>4.411067</td>\n",
       "      <td>1.0</td>\n",
       "      <td>1.0</td>\n",
       "      <td>3.642412e-03</td>\n",
       "      <td>0.654573</td>\n",
       "      <td>6.687960e-08</td>\n",
       "      <td>7.284623e-03</td>\n",
       "    </tr>\n",
       "    <tr>\n",
       "      <th>std</th>\n",
       "      <td>2.968647</td>\n",
       "      <td>0.0</td>\n",
       "      <td>0.0</td>\n",
       "      <td>7.061344e-03</td>\n",
       "      <td>0.579080</td>\n",
       "      <td>6.308552e-06</td>\n",
       "      <td>1.412230e-02</td>\n",
       "    </tr>\n",
       "    <tr>\n",
       "      <th>min</th>\n",
       "      <td>1.000000</td>\n",
       "      <td>1.0</td>\n",
       "      <td>1.0</td>\n",
       "      <td>4.422157e-07</td>\n",
       "      <td>0.007291</td>\n",
       "      <td>-7.795340e-05</td>\n",
       "      <td>8.844190e-07</td>\n",
       "    </tr>\n",
       "    <tr>\n",
       "      <th>25%</th>\n",
       "      <td>2.000000</td>\n",
       "      <td>1.0</td>\n",
       "      <td>1.0</td>\n",
       "      <td>1.924752e-04</td>\n",
       "      <td>0.204473</td>\n",
       "      <td>-1.154877e-06</td>\n",
       "      <td>3.849437e-04</td>\n",
       "    </tr>\n",
       "    <tr>\n",
       "      <th>50%</th>\n",
       "      <td>4.000000</td>\n",
       "      <td>1.0</td>\n",
       "      <td>1.0</td>\n",
       "      <td>9.621824e-04</td>\n",
       "      <td>0.432711</td>\n",
       "      <td>2.781430e-08</td>\n",
       "      <td>1.924346e-03</td>\n",
       "    </tr>\n",
       "    <tr>\n",
       "      <th>75%</th>\n",
       "      <td>6.000000</td>\n",
       "      <td>1.0</td>\n",
       "      <td>1.0</td>\n",
       "      <td>3.915298e-03</td>\n",
       "      <td>1.013185</td>\n",
       "      <td>1.028870e-06</td>\n",
       "      <td>7.830325e-03</td>\n",
       "    </tr>\n",
       "    <tr>\n",
       "      <th>max</th>\n",
       "      <td>18.000000</td>\n",
       "      <td>1.0</td>\n",
       "      <td>1.0</td>\n",
       "      <td>8.048232e-02</td>\n",
       "      <td>2.818772</td>\n",
       "      <td>5.423571e-05</td>\n",
       "      <td>1.609621e-01</td>\n",
       "    </tr>\n",
       "  </tbody>\n",
       "</table>\n",
       "</div>"
      ],
      "text/plain": [
       "       Ciclo Respiratorio  Crepitancia  Sibilancia      Varianza       Rango  \\\n",
       "count          506.000000        506.0       506.0  5.060000e+02  506.000000   \n",
       "mean             4.411067          1.0         1.0  3.642412e-03    0.654573   \n",
       "std              2.968647          0.0         0.0  7.061344e-03    0.579080   \n",
       "min              1.000000          1.0         1.0  4.422157e-07    0.007291   \n",
       "25%              2.000000          1.0         1.0  1.924752e-04    0.204473   \n",
       "50%              4.000000          1.0         1.0  9.621824e-04    0.432711   \n",
       "75%              6.000000          1.0         1.0  3.915298e-03    1.013185   \n",
       "max             18.000000          1.0         1.0  8.048232e-02    2.818772   \n",
       "\n",
       "       Suma de Promedios  Promedio de Espectros  \n",
       "count       5.060000e+02           5.060000e+02  \n",
       "mean        6.687960e-08           7.284623e-03  \n",
       "std         6.308552e-06           1.412230e-02  \n",
       "min        -7.795340e-05           8.844190e-07  \n",
       "25%        -1.154877e-06           3.849437e-04  \n",
       "50%         2.781430e-08           1.924346e-03  \n",
       "75%         1.028870e-06           7.830325e-03  \n",
       "max         5.423571e-05           1.609621e-01  "
      ]
     },
     "execution_count": 16,
     "metadata": {},
     "output_type": "execute_result"
    }
   ],
   "source": [
    "dobles.describe()"
   ]
  },
  {
   "cell_type": "markdown",
   "metadata": {},
   "source": [
    "## Gráficos"
   ]
  },
  {
   "cell_type": "markdown",
   "metadata": {},
   "source": [
    "### Pie"
   ]
  },
  {
   "cell_type": "code",
   "execution_count": 52,
   "metadata": {},
   "outputs": [
    {
     "data": {
      "image/png": "[encoded data removed]",
      "text/plain": [
       "<Figure size 432x288 with 1 Axes>"
      ]
     },
     "metadata": {},
     "output_type": "display_data"
    }
   ],
   "source": [
    "# Pie chart, where the slices will be ordered and plotted counter-clockwise:\n",
    "labels = 'Sin Patologías', 'Crepitancias', 'Sibilancias', 'Ambas'\n",
    "sizes = [3642, 1864, 886, 506]\n",
    "explode = (0.1, 0, 0, 0)  \n",
    "fig1, ax1 = plt.subplots()\n",
    "ax1.pie(sizes, explode=explode, labels=labels, autopct='%1.1f%%',\n",
    "        shadow=True, startangle=90)\n",
    "ax1.axis('equal')  # Equal aspect ratio ensures that pie is drawn as a circle.\n",
    "plt.show()\n"
   ]
  },
  {
   "cell_type": "markdown",
   "metadata": {},
   "source": [
    "El presente gráfico nos permite conocer el porcentaje de ciclos que pertenecen a las cuatro categorías, se puede observar que la mayor cantidad de pacientes no presenta patologías, seguida por las creitancias, luego las sibilancias y en un menor porcentaje quienes presentan ambas. Una mayoría simple de ciclos no presenta patologías, sin embargo dentro de las patologías las crepitancias representan más de la mitad de las muestras, por lo tanto es la patología con más incidencia dentro del estudio. "
   ]
  },
  {
   "cell_type": "markdown",
   "metadata": {},
   "source": [
    "### Box Plot\n",
    "\n",
    "En esta sección se organizaron los gráficos por cada categorías y se graficas las cuatro variables en cada uno de ellas. \n",
    "###### Debido a problemas con el tamaño de la imagen no se visualiza muy bien el label en la primera imagen pero hace referencia a Varianza y Promedio de Espectro, respectivamente."
   ]
  },
  {
   "cell_type": "code",
   "execution_count": 61,
   "metadata": {
    "scrolled": true
   },
   "outputs": [
    {
     "data": {
      "text/plain": [
       "[]"
      ]
     },
     "execution_count": 61,
     "metadata": {},
     "output_type": "execute_result"
    },
    {
     "data": {
      "image/png": "[encoded data removed]",
      "text/plain": [
       "<Figure size 432x288 with 3 Axes>"
      ]
     },
     "metadata": {
      "needs_background": "light"
     },
     "output_type": "display_data"
    }
   ],
   "source": [
    "#Gráfico de cajas y bigotes para pacientes sin patologías\n",
    "plt.subplot(1,5,1)\n",
    "normal.boxplot(column=['Varianza','Promedio de Espectros'])\n",
    "plt.plot()\n",
    "plt.subplot(1,5,3)\n",
    "normal.boxplot(column=['Rango'])\n",
    "plt.plot()\n",
    "plt.subplot(1,5,5)\n",
    "normal.boxplot(column=['Suma de Promedios'])\n",
    "plt.plot()"
   ]
  },
  {
   "cell_type": "code",
   "execution_count": 55,
   "metadata": {},
   "outputs": [
    {
     "data": {
      "text/plain": [
       "[]"
      ]
     },
     "execution_count": 55,
     "metadata": {},
     "output_type": "execute_result"
    },
    {
     "data": {
      "image/png": "[encoded data removed]",
      "text/plain": [
       "<Figure size 432x288 with 3 Axes>"
      ]
     },
     "metadata": {
      "needs_background": "light"
     },
     "output_type": "display_data"
    }
   ],
   "source": [
    "#Gráfico de cajas y bigotes para pacientes con crepitancias\n",
    "\n",
    "plt.subplot(1,5,1)\n",
    "crepitancia.boxplot(column=['Varianza','Promedio de Espectros'])\n",
    "plt.plot()\n",
    "plt.subplot(1,5,3)\n",
    "crepitancia.boxplot(column=['Rango'])\n",
    "plt.plot()\n",
    "plt.subplot(1,5,5)\n",
    "crepitancia.boxplot(column=['Suma de Promedios'])\n",
    "plt.plot()"
   ]
  },
  {
   "cell_type": "code",
   "execution_count": 54,
   "metadata": {},
   "outputs": [
    {
     "data": {
      "text/plain": [
       "[]"
      ]
     },
     "execution_count": 54,
     "metadata": {},
     "output_type": "execute_result"
    },
    {
     "data": {
      "image/png": "[encoded data removed]",
      "text/plain": [
       "<Figure size 432x288 with 3 Axes>"
      ]
     },
     "metadata": {
      "needs_background": "light"
     },
     "output_type": "display_data"
    }
   ],
   "source": [
    "#Gráfico de cajas y bigotes para pacientes con sibilancias\n",
    "\n",
    "plt.subplot(1,5,1)\n",
    "sibilancia.boxplot(column=['Varianza','Promedio de Espectros'])\n",
    "plt.plot()\n",
    "plt.subplot(1,5,3)\n",
    "sibilancia.boxplot(column=['Rango'])\n",
    "plt.plot()\n",
    "plt.subplot(1,5,5)\n",
    "sibilancia.boxplot(column=['Suma de Promedios'])\n",
    "plt.plot()"
   ]
  },
  {
   "cell_type": "code",
   "execution_count": 59,
   "metadata": {},
   "outputs": [
    {
     "data": {
      "text/plain": [
       "[]"
      ]
     },
     "execution_count": 59,
     "metadata": {},
     "output_type": "execute_result"
    },
    {
     "data": {
      "image/png": "[encoded data removed]",
      "text/plain": [
       "<Figure size 432x288 with 3 Axes>"
      ]
     },
     "metadata": {
      "needs_background": "light"
     },
     "output_type": "display_data"
    }
   ],
   "source": [
    "#Gráfico de cajas y bigotes para pacientes con ambas patologias\n",
    "\n",
    "plt.subplot(1,5,1)\n",
    "dobles.boxplot(column=['Varianza','Promedio de Espectros'])\n",
    "plt.plot()\n",
    "plt.subplot(1,5,3)\n",
    "dobles.boxplot(column=['Rango'])\n",
    "plt.plot()\n",
    "plt.subplot(1,5,5)\n",
    "dobles.boxplot(column=['Suma de Promedios'])\n",
    "plt.plot()\n"
   ]
  },
  {
   "cell_type": "markdown",
   "metadata": {},
   "source": [
    "Se puede observar que todas las gráficas presentan una candtidad bastante grande de valores atípicos, estos valores atípicos se pueden deber a varias cosas, la primera puede ser el filtrado de wavelet que puede ser inexacto y ocasionar estos valores atipicos, la otra podría ser a la toma de las muestras, como se sabía las muestras venías muy contaminadas, en los audios se escuchaban voces de fondo y sonidos del exterior que a la hora de realizar el filtrado o persistian o modificaban los valores que debía ser normales. "
   ]
  },
  {
   "cell_type": "markdown",
   "metadata": {},
   "source": [
    "### Correlación\n",
    "\n",
    "A continuación se encuentra el gráfico de la correlación entre todos los parámetros de todas las categorías "
   ]
  },
  {
   "cell_type": "code",
   "execution_count": 29,
   "metadata": {
    "scrolled": true
   },
   "outputs": [
    {
     "data": {
      "image/png": "[encoded data removed]",
      "text/plain": [
       "<Figure size 432x288 with 2 Axes>"
      ]
     },
     "metadata": {
      "needs_background": "light"
     },
     "output_type": "display_data"
    }
   ],
   "source": [
    "correlation=datos.corr()\n",
    "sns.heatmap(correlation, annot=True)\n",
    "plt.show()"
   ]
  },
  {
   "cell_type": "markdown",
   "metadata": {},
   "source": [
    "No existe una correlación en general entre los parámetros, los únicos que podrían tener relación alguna son el rango con la varianza, y en un caso muy particular el promedio del espectro con la varianza, los valores no son los mismos como se puede observar en los dataframe, pero sus valores son tan pequeños que al hacer la comparación cualquier variación no es tomada en cuenta y por lo tanto aparece una correlación de 1. "
   ]
  },
  {
   "cell_type": "markdown",
   "metadata": {},
   "source": [
    "## Histogramas\n",
    "\n",
    "En las siguientes gráficas se aprecian los histogramas para cada parámetros en todas las categorias, esto se relizó para determinar de los parámetros seguían una distribución normal."
   ]
  },
  {
   "cell_type": "code",
   "execution_count": 45,
   "metadata": {},
   "outputs": [
    {
     "data": {
      "text/plain": [
       "<matplotlib.legend.Legend at 0x20c190f45c8>"
      ]
     },
     "execution_count": 45,
     "metadata": {},
     "output_type": "execute_result"
    },
    {
     "data": {
      "image/png": "[encoded data removed]",
      "text/plain": [
       "<Figure size 432x288 with 1 Axes>"
      ]
     },
     "metadata": {
      "needs_background": "light"
     },
     "output_type": "display_data"
    }
   ],
   "source": [
    "#Histogramas de la Varianza para cada uno de las categorías \n",
    "count,bin_edges = np.histogram(normal['Varianza']) \n",
    "normal['Varianza'].plot.hist(bins=bin_edges, alpha=0.5) \n",
    "\n",
    "count,bin_edges = np.histogram(crepitancia['Varianza']) \n",
    "crepitancia['Varianza'].plot.hist(bins=bin_edges, alpha=0.5) \n",
    "\n",
    "count,bin_edges = np.histogram(sibilancia['Varianza']) \n",
    "sibilancia['Varianza'].plot.hist(bins=bin_edges, alpha=0.5) \n",
    "\n",
    "count,bin_edges = np.histogram(dobles['Varianza']) \n",
    "dobles['Varianza'].plot.hist(bins=bin_edges, alpha=0.5) \n",
    "\n",
    "plt.legend(['Sin P', 'Crep', 'Sib', 'Doble'])"
   ]
  },
  {
   "cell_type": "code",
   "execution_count": 47,
   "metadata": {},
   "outputs": [
    {
     "data": {
      "text/plain": [
       "<matplotlib.legend.Legend at 0x20c19917ac8>"
      ]
     },
     "execution_count": 47,
     "metadata": {},
     "output_type": "execute_result"
    },
    {
     "data": {
      "image/png": "[encoded data removed]",
      "text/plain": [
       "<Figure size 432x288 with 1 Axes>"
      ]
     },
     "metadata": {
      "needs_background": "light"
     },
     "output_type": "display_data"
    }
   ],
   "source": [
    "#Histogramas del Rango para cada uno de las categorías \n",
    "\n",
    "count,bin_edges = np.histogram(normal['Rango']) \n",
    "normal['Rango'].plot.hist(bins=bin_edges, alpha=0.5) \n",
    "\n",
    "count,bin_edges = np.histogram(crepitancia['Rango']) \n",
    "crepitancia['Rango'].plot.hist(bins=bin_edges, alpha=0.5) \n",
    "\n",
    "count,bin_edges = np.histogram(sibilancia['Rango']) \n",
    "sibilancia['Rango'].plot.hist(bins=bin_edges, alpha=0.5) \n",
    "\n",
    "count,bin_edges = np.histogram(dobles['Rango']) \n",
    "dobles['Rango'].plot.hist(bins=bin_edges, alpha=0.5) \n",
    "\n",
    "plt.legend(['Sin P', 'Crep', 'Sib', 'Doble'])"
   ]
  },
  {
   "cell_type": "code",
   "execution_count": 48,
   "metadata": {},
   "outputs": [
    {
     "data": {
      "text/plain": [
       "<matplotlib.legend.Legend at 0x20c19991208>"
      ]
     },
     "execution_count": 48,
     "metadata": {},
     "output_type": "execute_result"
    },
    {
     "data": {
      "image/png": "[encoded data removed]",
      "text/plain": [
       "<Figure size 432x288 with 1 Axes>"
      ]
     },
     "metadata": {
      "needs_background": "light"
     },
     "output_type": "display_data"
    }
   ],
   "source": [
    "#Histogramas del Promedio de Espectro para cada uno de las categorías \n",
    "\n",
    "count,bin_edges = np.histogram(normal['Promedio de Espectros']) \n",
    "normal['Promedio de Espectros'].plot.hist(bins=bin_edges, alpha=0.5) \n",
    "\n",
    "count,bin_edges = np.histogram(crepitancia['Promedio de Espectros']) \n",
    "crepitancia['Promedio de Espectros'].plot.hist(bins=bin_edges, alpha=0.5) \n",
    "\n",
    "count,bin_edges = np.histogram(sibilancia['Promedio de Espectros']) \n",
    "sibilancia['Promedio de Espectros'].plot.hist(bins=bin_edges, alpha=0.5) \n",
    "\n",
    "count,bin_edges = np.histogram(dobles['Promedio de Espectros']) \n",
    "dobles['Promedio de Espectros'].plot.hist(bins=bin_edges, alpha=0.5) \n",
    "\n",
    "plt.legend(['Sin P', 'Crep', 'Sib', 'Doble'])"
   ]
  },
  {
   "cell_type": "code",
   "execution_count": 49,
   "metadata": {},
   "outputs": [
    {
     "data": {
      "text/plain": [
       "<matplotlib.legend.Legend at 0x20c19a79148>"
      ]
     },
     "execution_count": 49,
     "metadata": {},
     "output_type": "execute_result"
    },
    {
     "data": {
      "image/png": "[encoded data removed]",
      "text/plain": [
       "<Figure size 432x288 with 1 Axes>"
      ]
     },
     "metadata": {
      "needs_background": "light"
     },
     "output_type": "display_data"
    }
   ],
   "source": [
    "#Histogramas de la Suma de Promedios para cada uno de las categorías \n",
    "\n",
    "count,bin_edges = np.histogram(normal['Suma de Promedios']) \n",
    "normal['Suma de Promedios'].plot.hist(bins=bin_edges, alpha=0.5) \n",
    "\n",
    "count,bin_edges = np.histogram(crepitancia['Suma de Promedios']) \n",
    "crepitancia['Suma de Promedios'].plot.hist(bins=bin_edges, alpha=0.5) \n",
    "\n",
    "count,bin_edges = np.histogram(sibilancia['Suma de Promedios']) \n",
    "sibilancia['Suma de Promedios'].plot.hist(bins=bin_edges, alpha=0.5) \n",
    "\n",
    "count,bin_edges = np.histogram(dobles['Suma de Promedios']) \n",
    "dobles['Suma de Promedios'].plot.hist(bins=bin_edges, alpha=0.5) \n",
    "\n",
    "plt.legend(['Sin P', 'Crep', 'Sib', 'Doble'])"
   ]
  },
  {
   "cell_type": "markdown",
   "metadata": {},
   "source": [
    "Se pudo observar que ninguno de los parámetros presenta una distribución normal, en único que sigue una distribución en forma de campana más no normal es la suma de los promedios, pero no cumple todas las carácterísticas principalmente porque la media no está alineada en el centro, además no hay igual probabilidad a lado y lado del cero, por lo tanto no cumple una distribución normal."
   ]
  },
  {
   "cell_type": "markdown",
   "metadata": {},
   "source": [
    "## Prueba de hipótesis\n",
    "\n",
    "La prueba de hipótesisLas se utilizan para determinar si los valores obtenidos se deben al azar o sí son verdaderamente los valores del estudio. Para ello se plantean dos hipótesis, la hipótesis nula (HN) y la hipótesis alternativa (HA); si la prueba determina que el valor de p es menor que el alfa entonces se descarta la hipótesis nula y se reafirma la hipótesis alternativa, si no sucede lo contrario. \n",
    "\n",
    "Para la prueba de hipotesis se decidió usar la prueba de Mann-Whitney, puesto que se desea realizar un análisis no paramétrico debido a la distribución no normal de los parámetros a evaluar.\n",
    "Debido a que se desea comparar 4 características (Sanos, Con Crepitancias, Con Sibilancias y con ambas patologías), el nivel de significancia alpha será de 0.013. El nivel de significancia usualmente se define con un valor de 0.05 (5%) para el análisis de dos características, pero debido a que se trabajará con cuatro características, se divide el alpha por el número de caracteríticas a analizar.\n",
    "\n"
   ]
  },
  {
   "cell_type": "code",
   "execution_count": 62,
   "metadata": {},
   "outputs": [],
   "source": [
    "alpha=0.013 #0.05/4"
   ]
  },
  {
   "cell_type": "markdown",
   "metadata": {},
   "source": [
    "##### Comparación de sujetos sanos y sujetos con crepitancias\n",
    "\n",
    "HN: Los parámetros comparados de los ciclos respiratorios de sujetos sanos y de sujetos con crepitancias no muestran diferencias significativas. \n",
    "\n",
    "HA: Los parámetros comparados en los ciclos respiratorios de sujetos sanos y sujetos con crepitancias sí muestran diferencias significativas. "
   ]
  },
  {
   "cell_type": "code",
   "execution_count": 69,
   "metadata": {},
   "outputs": [
    {
     "name": "stdout",
     "output_type": "stream",
     "text": [
      "Análisis de Varianza: \n",
      "True\n",
      "Valor P: 2.716365473498301e-41\n",
      "\n",
      "Análisis de Rango: \n",
      "True\n",
      "Valor P: 2.013649217242549e-62\n",
      "\n",
      "Análisis de Suma de Promedios: \n",
      "False\n",
      "Valor P: 0.07696345395222953\n",
      "\n",
      "Análisis de Promedio de Espectros: \n",
      "True\n",
      "Valor P: 2.713086916709796e-41\n"
     ]
    }
   ],
   "source": [
    "#Se usa la función mannwhitneyu de la libreria Scipy para realizar la prueba de hipotesis entre los diferentes sujetos\n",
    "#se compara cada una de las características de los diferentes sujetos\n",
    "\n",
    "#Varianza\n",
    "\n",
    "#mannwhitneyu recibe dos paramétros(x,y), los cuales son muestras de datos de una dimensión\n",
    "# y retorna dos valores (statistics,pvalue)\n",
    "\n",
    "statistics,pvalues = mannwhitneyu(normal['Varianza'],crepitancia['Varianza'])\n",
    "print(\"Análisis de Varianza: \")\n",
    "print(pvalues<alpha)\n",
    "print (\"Valor P: \"+str(pvalues))\n",
    "\n",
    "#Rango\n",
    "statistics,pvalues = mannwhitneyu(normal['Rango'],crepitancia['Rango'])\n",
    "print(\"\\nAnálisis de Rango: \")\n",
    "print(pvalues<alpha)\n",
    "print (\"Valor P: \"+str(pvalues))\n",
    "\n",
    "#Suma de Promedios\n",
    "statistics,pvalues=mannwhitneyu(normal['Suma de Promedios'],crepitancia['Suma de Promedios'])\n",
    "print(\"\\nAnálisis de Suma de Promedios: \")\n",
    "print(pvalues<alpha)\n",
    "print (\"Valor P: \"+str(pvalues))\n",
    "\n",
    "#Promedio de Espectros\n",
    "statistics,pvalues=mannwhitneyu(normal['Promedio de Espectros'],crepitancia['Promedio de Espectros'])\n",
    "print(\"\\nAnálisis de Promedio de Espectros: \")\n",
    "print(pvalues<alpha)\n",
    "print (\"Valor P: \"+str(pvalues))"
   ]
  },
  {
   "cell_type": "markdown",
   "metadata": {},
   "source": [
    "Tres de los cuatro parámetros evaluados mostraron diferencias significativas entre los sujetos sanos y con crepitancias, por lo tanto en el caso de la varianza, el rango y promedio espectral se cumple la HA. En el caso de la suma de promedio se reafirma la HN, esto quiere deir que el porcentaje de error es mayor y por lo tanto los valores encontrados pueden deberse a la casualidad. "
   ]
  },
  {
   "cell_type": "markdown",
   "metadata": {},
   "source": [
    "##### Comparación de sujetos sanos y sujetos con sibilancias"
   ]
  },
  {
   "cell_type": "code",
   "execution_count": 66,
   "metadata": {},
   "outputs": [
    {
     "name": "stdout",
     "output_type": "stream",
     "text": [
      "Análisis de Varianza: \n",
      "True\n",
      "Valor P: 6.086833272652355e-32\n",
      "\n",
      "Análisis de Rango: \n",
      "True\n",
      "Valor P: 3.4680229505874866e-24\n",
      "\n",
      "Análisis de Suma de Promedios: \n",
      "False\n",
      "Valor P: 0.06406871288440384\n",
      "\n",
      "Análisis de Promedio de Espectros: \n",
      "True\n",
      "Valor P: 6.080668149078669e-32\n"
     ]
    }
   ],
   "source": [
    "#Varianza\n",
    "statistics,pvalues=mannwhitneyu(normal['Varianza'],sibilancia['Varianza'])\n",
    "print(\"Análisis de Varianza: \")\n",
    "print(pvalues<alpha)\n",
    "print (\"Valor P: \"+str(pvalues))\n",
    "\n",
    "#Rango\n",
    "statistics,pvalues=mannwhitneyu(normal['Rango'],sibilancia['Rango'])\n",
    "print(\"\\nAnálisis de Rango: \")\n",
    "print(pvalues<alpha)\n",
    "print (\"Valor P: \"+str(pvalues))\n",
    "\n",
    "#Suma de Promedios\n",
    "statistics,pvalues=mannwhitneyu(normal['Suma de Promedios'],sibilancia['Suma de Promedios'])\n",
    "print(\"\\nAnálisis de Suma de Promedios: \")\n",
    "print(pvalues<alpha)\n",
    "print (\"Valor P: \"+str(pvalues))\n",
    "\n",
    "#Promedio de Espectros\n",
    "statistics,pvalues=mannwhitneyu(normal['Promedio de Espectros'],sibilancia['Promedio de Espectros'])\n",
    "print(\"\\nAnálisis de Promedio de Espectros: \")\n",
    "print(pvalues<alpha)\n",
    "print (\"Valor P: \"+str(pvalues))"
   ]
  },
  {
   "cell_type": "markdown",
   "metadata": {},
   "source": [
    "Tres de los cuatro parámetros evaluados mostraron diferencias significativas entre los sujetos sanos y con sibilancias, por lo tanto en el caso de la varianza, el rango y promedio espectral se cumple la HA. En el caso de la suma de promedio se reafirma la HN, esto quiere deir que el porcentaje de error es mayor y por lo tanto los valores encontrados pueden deberse a la casualidad. Es curioso que en ambos casos sibilancia y crepitancia se halla obtenido resultados similares, entonces se esperaría obtener lo mismo en el caso de la doble patología. "
   ]
  },
  {
   "cell_type": "markdown",
   "metadata": {},
   "source": [
    "##### Comparación de sujetos sanos y sujetos con doble patología"
   ]
  },
  {
   "cell_type": "code",
   "execution_count": 71,
   "metadata": {},
   "outputs": [
    {
     "name": "stdout",
     "output_type": "stream",
     "text": [
      "Análisis de Varianza: \n",
      "True\n",
      "Valor P: 8.315011961560036e-23\n",
      "\n",
      "Análisis de Rango: \n",
      "True\n",
      "Valor P: 7.540969227754743e-24\n",
      "\n",
      "Análisis de Suma de Promedios: \n",
      "False\n",
      "Valor P: 0.2579471598051376\n",
      "\n",
      "Análisis de Promedio de Espectros: \n",
      "True\n",
      "Valor P: 8.308517899984339e-23\n"
     ]
    }
   ],
   "source": [
    "#Varianza\n",
    "statistics,pvalues=mannwhitneyu(normal['Varianza'],dobles['Varianza'])\n",
    "print(\"Análisis de Varianza: \")\n",
    "print(pvalues<alpha)\n",
    "print (\"Valor P: \"+str(pvalues))\n",
    "\n",
    "#Rango\n",
    "statistics,pvalues=mannwhitneyu(normal['Rango'],dobles['Rango'])\n",
    "print(\"\\nAnálisis de Rango: \")\n",
    "print(pvalues<alpha)\n",
    "print (\"Valor P: \"+str(pvalues))\n",
    "\n",
    "#Suma de Promedios\n",
    "statistics,pvalues=mannwhitneyu(normal['Suma de Promedios'],dobles['Suma de Promedios'])\n",
    "print(\"\\nAnálisis de Suma de Promedios: \")\n",
    "print(pvalues<alpha)\n",
    "print (\"Valor P: \"+str(pvalues))\n",
    "\n",
    "#Promedio de Espectros\n",
    "statistics,pvalues=mannwhitneyu(normal['Promedio de Espectros'],dobles['Promedio de Espectros'])\n",
    "print(\"\\nAnálisis de Promedio de Espectros: \")\n",
    "print(pvalues<alpha)\n",
    "print (\"Valor P: \"+str(pvalues))"
   ]
  },
  {
   "cell_type": "markdown",
   "metadata": {},
   "source": [
    "Se puede observar que en este caso se cumple lo mismo que en los otros dos, por lo tanto podemos concluir que comparando los sujetos normales con los patológicos los valores de la varianza, rango y promedio de espectro sí son debido al estudio y no a la casualidad, contrario a lo que se puede afirma de la suma de promedio móviles. "
   ]
  },
  {
   "cell_type": "markdown",
   "metadata": {},
   "source": [
    "##### Comparación de sujetos con crepitancias y sujetos con sibilancias\n"
   ]
  },
  {
   "cell_type": "code",
   "execution_count": 68,
   "metadata": {},
   "outputs": [
    {
     "name": "stdout",
     "output_type": "stream",
     "text": [
      "Análisis de Varianza: \n",
      "True\n",
      "Valor P: 0.010570063291555009\n",
      "\n",
      "Análisis de Rango: \n",
      "False\n",
      "Valor P: 0.013719878141456334\n",
      "\n",
      "Análisis de Suma de Promedios: \n",
      "False\n",
      "Valor P: 0.41350049392460136\n",
      "\n",
      "Análisis de Promedio de Espectros: \n",
      "True\n",
      "Valor P: 0.01057437681617941\n"
     ]
    }
   ],
   "source": [
    "#Varianza\n",
    "statistics,pvalues=mannwhitneyu(crepitancia['Varianza'],sibilancia['Varianza'])\n",
    "print(\"Análisis de Varianza: \")\n",
    "print(pvalues<alpha)\n",
    "print (\"Valor P: \"+str(pvalues))\n",
    "\n",
    "#Rango\n",
    "statistics,pvalues=mannwhitneyu(crepitancia['Rango'],sibilancia['Rango'])\n",
    "print(\"\\nAnálisis de Rango: \")\n",
    "print(pvalues<alpha)\n",
    "print (\"Valor P: \"+str(pvalues))\n",
    "\n",
    "#Suma de Promedios\n",
    "statistics,pvalues=mannwhitneyu(crepitancia['Suma de Promedios'],sibilancia['Suma de Promedios'])\n",
    "print(\"\\nAnálisis de Suma de Promedios: \")\n",
    "print(pvalues<alpha)\n",
    "print (\"Valor P: \"+str(pvalues))\n",
    "\n",
    "#Promedio de Espectros\n",
    "statistics,pvalues=mannwhitneyu(crepitancia['Promedio de Espectros'],sibilancia['Promedio de Espectros'])\n",
    "print(\"\\nAnálisis de Promedio de Espectros: \")\n",
    "print(pvalues<alpha)\n",
    "print (\"Valor P: \"+str(pvalues))"
   ]
  },
  {
   "cell_type": "markdown",
   "metadata": {},
   "source": [
    "Se decidió realizar una comparación entre ambas patologías para determinar si existía una diferencia significativa, y efectivamente sí exite para el caso de la varianza y del promedio de espectro, pero sorpresivamente esto no se cumple en dos parámetrs que son el rango y la suma de promedios. Se cree que este resultado inesperado en el rango es debido a que no existe una diferencia significativa en la duración de los ciclos respiratorios entre las personas con patologías, y por tanto sus valores son muy parecidos y no es posible diferencia sólo con este parámetro las personas con sibilancias de las personas con crepitancias. "
   ]
  },
  {
   "cell_type": "code",
   "execution_count": null,
   "metadata": {},
   "outputs": [],
   "source": []
  }
 ],
 "metadata": {
  "kernelspec": {
   "display_name": "Python 3",
   "language": "python",
   "name": "python3"
  },
  "language_info": {
   "codemirror_mode": {
    "name": "ipython",
    "version": 3
   },
   "file_extension": ".py",
   "mimetype": "text/x-python",
   "name": "python",
   "nbconvert_exporter": "python",
   "pygments_lexer": "ipython3",
   "version": "3.7.4"
  }
 },
 "nbformat": 4,
 "nbformat_minor": 4
}
